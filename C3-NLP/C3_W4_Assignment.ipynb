{
  "nbformat": 4,
  "nbformat_minor": 0,
  "metadata": {
    "accelerator": "GPU",
    "colab": {
      "name": "C3_W4_Assignment.ipynb",
      "provenance": [],
      "toc_visible": true
    },
    "kernelspec": {
      "display_name": "Python 3",
      "language": "python",
      "name": "python3"
    },
    "language_info": {
      "codemirror_mode": {
        "name": "ipython",
        "version": 3
      },
      "file_extension": ".py",
      "mimetype": "text/x-python",
      "name": "python",
      "nbconvert_exporter": "python",
      "pygments_lexer": "ipython3",
      "version": "3.8.5"
    }
  },
  "cells": [
    {
      "cell_type": "code",
      "metadata": {
        "id": "T2XpcPvbXalN"
      },
      "source": [
        "#@title Licensed under the Apache License, Version 2.0 (the \"License\");\n",
        "# you may not use this file except in compliance with the License.\n",
        "# You may obtain a copy of the License at\n",
        "#\n",
        "# https://www.apache.org/licenses/LICENSE-2.0\n",
        "#\n",
        "# Unless required by applicable law or agreed to in writing, software\n",
        "# distributed under the License is distributed on an \"AS IS\" BASIS,\n",
        "# WITHOUT WARRANTIES OR CONDITIONS OF ANY KIND, either express or implied.\n",
        "# See the License for the specific language governing permissions and\n",
        "# limitations under the License."
      ],
      "execution_count": null,
      "outputs": []
    },
    {
      "cell_type": "markdown",
      "metadata": {
        "id": "eK88h3Y5XalO"
      },
      "source": [
        "**Note:** This notebook can run using TensorFlow 2.5.0"
      ]
    },
    {
      "cell_type": "code",
      "metadata": {
        "id": "zX4Kg8DUTKWO"
      },
      "source": [
        "#!pip install tensorflow==2.5.0"
      ],
      "execution_count": null,
      "outputs": []
    },
    {
      "cell_type": "code",
      "metadata": {
        "id": "BOwsuGQQY9OL"
      },
      "source": [
        "from tensorflow.keras.preprocessing.sequence import pad_sequences\n",
        "from tensorflow.keras.layers import Embedding, LSTM, Dense, Dropout, Bidirectional\n",
        "from tensorflow.keras.preprocessing.text import Tokenizer\n",
        "from tensorflow.keras.models import Sequential\n",
        "from tensorflow.keras.optimizers import Adam\n",
        "### YOUR CODE HERE\n",
        "from tensorflow.keras.regularizers import L1L2\n",
        "###\n",
        "import tensorflow.keras.utils as ku \n",
        "import numpy as np "
      ],
      "execution_count": 2,
      "outputs": []
    },
    {
      "cell_type": "code",
      "metadata": {
        "id": "PRnDnCW-Z7qv",
        "outputId": "b7597c24-3cb1-4400-caf3-3bf1d3010ddf",
        "colab": {
          "base_uri": "https://localhost:8080/"
        }
      },
      "source": [
        "tokenizer = Tokenizer()\n",
        "\n",
        "# sonnets.txt\n",
        "!gdown --id 108jAePKK4R3BVYBbYJZ32JWUwxeMg20K\n",
        "\n",
        "data = open('./sonnets.txt').read()\n",
        "\n",
        "corpus = data.lower().split(\"\\n\")\n",
        "\n",
        "\n",
        "tokenizer.fit_on_texts(corpus)\n",
        "total_words = len(tokenizer.word_index) + 1\n",
        "\n",
        "# create input sequences using list of tokens\n",
        "input_sequences = []\n",
        "for line in corpus:\n",
        "\ttoken_list = tokenizer.texts_to_sequences([line])[0]\n",
        "\tfor i in range(1, len(token_list)):\n",
        "\t\tn_gram_sequence = token_list[:i+1]\n",
        "\t\tinput_sequences.append(n_gram_sequence)\n",
        "\n",
        "\n",
        "# pad sequences \n",
        "max_sequence_len = max([len(x) for x in input_sequences])\n",
        "input_sequences = np.array(pad_sequences(input_sequences, maxlen=max_sequence_len, padding='pre'))\n",
        "\n",
        "# create predictors and label\n",
        "predictors, label = input_sequences[:,:-1],input_sequences[:,-1]\n",
        "\n",
        "label = ku.to_categorical(label, num_classes=total_words)"
      ],
      "execution_count": 3,
      "outputs": [
        {
          "output_type": "stream",
          "name": "stdout",
          "text": [
            "Downloading...\n",
            "From: https://drive.google.com/uc?id=108jAePKK4R3BVYBbYJZ32JWUwxeMg20K\n",
            "To: /content/sonnets.txt\n",
            "\r  0% 0.00/93.6k [00:00<?, ?B/s]\r100% 93.6k/93.6k [00:00<00:00, 36.6MB/s]\n"
          ]
        }
      ]
    },
    {
      "cell_type": "code",
      "metadata": {
        "id": "G8J2zB8UhdX2",
        "outputId": "8f5b1f04-a30c-4623-9a56-1b4c3bcecd0a",
        "colab": {
          "base_uri": "https://localhost:8080/"
        }
      },
      "source": [
        "total_words"
      ],
      "execution_count": 7,
      "outputs": [
        {
          "output_type": "execute_result",
          "data": {
            "text/plain": [
              "3211"
            ]
          },
          "metadata": {},
          "execution_count": 7
        }
      ]
    },
    {
      "cell_type": "code",
      "metadata": {
        "id": "w9vH8Y59ajYL",
        "outputId": "de6841e7-787a-4591-e514-7cb7fef5d67a",
        "colab": {
          "base_uri": "https://localhost:8080/"
        }
      },
      "source": [
        "### START CODE HERE\n",
        "model = Sequential()\n",
        "model.add(Embedding(total_words, 128, input_length=max_sequence_len-1))\n",
        "model.add(LSTM(150, return_sequences=True))\n",
        "model.add(Dropout(0.2))\n",
        "model.add(LSTM(100))\n",
        "model.add(Dense(total_words//2, activation='relu', kernel_regularizer=L1L2(l1=0.0, l2=0.01)))\n",
        "model.add(Dense(total_words, activation='softmax'))\n",
        "# Pick an optimizer\n",
        "model.compile(loss='categorical_crossentropy', optimizer=Adam(learning_rate=0.01), metrics=['accuracy'])\n",
        "### END CODE HERE\n",
        "    \n",
        "print(model.summary())"
      ],
      "execution_count": 36,
      "outputs": [
        {
          "output_type": "stream",
          "name": "stdout",
          "text": [
            "Model: \"sequential_12\"\n",
            "_________________________________________________________________\n",
            " Layer (type)                Output Shape              Param #   \n",
            "=================================================================\n",
            " embedding_12 (Embedding)    (None, 10, 128)           411008    \n",
            "                                                                 \n",
            " lstm_24 (LSTM)              (None, 10, 150)           167400    \n",
            "                                                                 \n",
            " dropout_12 (Dropout)        (None, 10, 150)           0         \n",
            "                                                                 \n",
            " lstm_25 (LSTM)              (None, 100)               100400    \n",
            "                                                                 \n",
            " dense_18 (Dense)            (None, 1605)              162105    \n",
            "                                                                 \n",
            " dense_19 (Dense)            (None, 3211)              5156866   \n",
            "                                                                 \n",
            "=================================================================\n",
            "Total params: 5,997,779\n",
            "Trainable params: 5,997,779\n",
            "Non-trainable params: 0\n",
            "_________________________________________________________________\n",
            "None\n"
          ]
        }
      ]
    },
    {
      "cell_type": "code",
      "metadata": {
        "id": "AIg2f1HBxqof",
        "outputId": "b41e15ac-739a-42c1-b1a9-5886cc431028",
        "colab": {
          "base_uri": "https://localhost:8080/"
        }
      },
      "source": [
        " history = model.fit(predictors, label, epochs=100, verbose=1, batch_size=128)"
      ],
      "execution_count": 37,
      "outputs": [
        {
          "output_type": "stream",
          "name": "stdout",
          "text": [
            "Epoch 1/100\n",
            "121/121 [==============================] - 7s 24ms/step - loss: 6.9691 - accuracy: 0.0241\n",
            "Epoch 2/100\n",
            "121/121 [==============================] - 2s 20ms/step - loss: 6.4658 - accuracy: 0.0246\n",
            "Epoch 3/100\n",
            "121/121 [==============================] - 2s 20ms/step - loss: 6.3054 - accuracy: 0.0285\n",
            "Epoch 4/100\n",
            "121/121 [==============================] - 2s 20ms/step - loss: 6.1951 - accuracy: 0.0296\n",
            "Epoch 5/100\n",
            "121/121 [==============================] - 2s 20ms/step - loss: 6.1206 - accuracy: 0.0341\n",
            "Epoch 6/100\n",
            "121/121 [==============================] - 2s 20ms/step - loss: 6.0458 - accuracy: 0.0393\n",
            "Epoch 7/100\n",
            "121/121 [==============================] - 2s 20ms/step - loss: 5.9807 - accuracy: 0.0435\n",
            "Epoch 8/100\n",
            "121/121 [==============================] - 2s 20ms/step - loss: 5.9108 - accuracy: 0.0481\n",
            "Epoch 9/100\n",
            "121/121 [==============================] - 2s 20ms/step - loss: 5.8481 - accuracy: 0.0503\n",
            "Epoch 10/100\n",
            "121/121 [==============================] - 2s 19ms/step - loss: 5.7685 - accuracy: 0.0573\n",
            "Epoch 11/100\n",
            "121/121 [==============================] - 2s 20ms/step - loss: 5.6872 - accuracy: 0.0620\n",
            "Epoch 12/100\n",
            "121/121 [==============================] - 2s 20ms/step - loss: 5.6081 - accuracy: 0.0717\n",
            "Epoch 13/100\n",
            "121/121 [==============================] - 2s 20ms/step - loss: 5.5412 - accuracy: 0.0735\n",
            "Epoch 14/100\n",
            "121/121 [==============================] - 2s 20ms/step - loss: 5.4801 - accuracy: 0.0761\n",
            "Epoch 15/100\n",
            "121/121 [==============================] - 2s 20ms/step - loss: 5.4040 - accuracy: 0.0804\n",
            "Epoch 16/100\n",
            "121/121 [==============================] - 2s 20ms/step - loss: 5.3466 - accuracy: 0.0835\n",
            "Epoch 17/100\n",
            "121/121 [==============================] - 2s 20ms/step - loss: 5.2991 - accuracy: 0.0887\n",
            "Epoch 18/100\n",
            "121/121 [==============================] - 2s 20ms/step - loss: 5.2357 - accuracy: 0.0921\n",
            "Epoch 19/100\n",
            "121/121 [==============================] - 2s 20ms/step - loss: 5.1915 - accuracy: 0.0946\n",
            "Epoch 20/100\n",
            "121/121 [==============================] - 2s 20ms/step - loss: 5.1325 - accuracy: 0.1010\n",
            "Epoch 21/100\n",
            "121/121 [==============================] - 2s 20ms/step - loss: 5.0869 - accuracy: 0.1057\n",
            "Epoch 22/100\n",
            "121/121 [==============================] - 2s 20ms/step - loss: 5.0280 - accuracy: 0.1095\n",
            "Epoch 23/100\n",
            "121/121 [==============================] - 2s 20ms/step - loss: 4.9793 - accuracy: 0.1092\n",
            "Epoch 24/100\n",
            "121/121 [==============================] - 2s 20ms/step - loss: 4.9354 - accuracy: 0.1142\n",
            "Epoch 25/100\n",
            "121/121 [==============================] - 2s 20ms/step - loss: 4.9021 - accuracy: 0.1197\n",
            "Epoch 26/100\n",
            "121/121 [==============================] - 2s 20ms/step - loss: 4.8616 - accuracy: 0.1201\n",
            "Epoch 27/100\n",
            "121/121 [==============================] - 2s 20ms/step - loss: 4.8036 - accuracy: 0.1228\n",
            "Epoch 28/100\n",
            "121/121 [==============================] - 2s 20ms/step - loss: 4.7718 - accuracy: 0.1244\n",
            "Epoch 29/100\n",
            "121/121 [==============================] - 2s 20ms/step - loss: 4.7203 - accuracy: 0.1308\n",
            "Epoch 30/100\n",
            "121/121 [==============================] - 2s 20ms/step - loss: 4.6948 - accuracy: 0.1293\n",
            "Epoch 31/100\n",
            "121/121 [==============================] - 2s 20ms/step - loss: 4.6669 - accuracy: 0.1334\n",
            "Epoch 32/100\n",
            "121/121 [==============================] - 2s 20ms/step - loss: 4.6217 - accuracy: 0.1354\n",
            "Epoch 33/100\n",
            "121/121 [==============================] - 2s 20ms/step - loss: 4.5767 - accuracy: 0.1428\n",
            "Epoch 34/100\n",
            "121/121 [==============================] - 2s 20ms/step - loss: 4.5573 - accuracy: 0.1436\n",
            "Epoch 35/100\n",
            "121/121 [==============================] - 2s 20ms/step - loss: 4.5095 - accuracy: 0.1426\n",
            "Epoch 36/100\n",
            "121/121 [==============================] - 2s 20ms/step - loss: 4.4924 - accuracy: 0.1481\n",
            "Epoch 37/100\n",
            "121/121 [==============================] - 2s 20ms/step - loss: 4.4421 - accuracy: 0.1510\n",
            "Epoch 38/100\n",
            "121/121 [==============================] - 2s 20ms/step - loss: 4.4018 - accuracy: 0.1515\n",
            "Epoch 39/100\n",
            "121/121 [==============================] - 2s 20ms/step - loss: 4.3687 - accuracy: 0.1559\n",
            "Epoch 40/100\n",
            "121/121 [==============================] - 2s 20ms/step - loss: 4.3481 - accuracy: 0.1614\n",
            "Epoch 41/100\n",
            "121/121 [==============================] - 2s 20ms/step - loss: 4.3055 - accuracy: 0.1632\n",
            "Epoch 42/100\n",
            "121/121 [==============================] - 2s 20ms/step - loss: 4.2899 - accuracy: 0.1633\n",
            "Epoch 43/100\n",
            "121/121 [==============================] - 2s 20ms/step - loss: 4.2669 - accuracy: 0.1630\n",
            "Epoch 44/100\n",
            "121/121 [==============================] - 2s 20ms/step - loss: 4.2449 - accuracy: 0.1686\n",
            "Epoch 45/100\n",
            "121/121 [==============================] - 2s 19ms/step - loss: 4.2312 - accuracy: 0.1684\n",
            "Epoch 46/100\n",
            "121/121 [==============================] - 2s 20ms/step - loss: 4.1901 - accuracy: 0.1705\n",
            "Epoch 47/100\n",
            "121/121 [==============================] - 2s 20ms/step - loss: 4.1744 - accuracy: 0.1751\n",
            "Epoch 48/100\n",
            "121/121 [==============================] - 2s 20ms/step - loss: 4.1463 - accuracy: 0.1794\n",
            "Epoch 49/100\n",
            "121/121 [==============================] - 2s 20ms/step - loss: 4.1229 - accuracy: 0.1826\n",
            "Epoch 50/100\n",
            "121/121 [==============================] - 2s 20ms/step - loss: 4.1161 - accuracy: 0.1805\n",
            "Epoch 51/100\n",
            "121/121 [==============================] - 2s 20ms/step - loss: 4.0739 - accuracy: 0.1859\n",
            "Epoch 52/100\n",
            "121/121 [==============================] - 2s 20ms/step - loss: 4.0828 - accuracy: 0.1847\n",
            "Epoch 53/100\n",
            "121/121 [==============================] - 2s 20ms/step - loss: 4.0437 - accuracy: 0.1881\n",
            "Epoch 54/100\n",
            "121/121 [==============================] - 2s 20ms/step - loss: 4.0203 - accuracy: 0.1939\n",
            "Epoch 55/100\n",
            "121/121 [==============================] - 2s 20ms/step - loss: 3.9855 - accuracy: 0.1946\n",
            "Epoch 56/100\n",
            "121/121 [==============================] - 2s 20ms/step - loss: 3.9751 - accuracy: 0.1941\n",
            "Epoch 57/100\n",
            "121/121 [==============================] - 2s 20ms/step - loss: 3.9636 - accuracy: 0.1968\n",
            "Epoch 58/100\n",
            "121/121 [==============================] - 2s 20ms/step - loss: 3.9556 - accuracy: 0.1978\n",
            "Epoch 59/100\n",
            "121/121 [==============================] - 2s 20ms/step - loss: 3.9371 - accuracy: 0.2027\n",
            "Epoch 60/100\n",
            "121/121 [==============================] - 2s 20ms/step - loss: 3.9237 - accuracy: 0.2050\n",
            "Epoch 61/100\n",
            "121/121 [==============================] - 2s 20ms/step - loss: 3.8942 - accuracy: 0.2062\n",
            "Epoch 62/100\n",
            "121/121 [==============================] - 2s 20ms/step - loss: 3.8651 - accuracy: 0.2102\n",
            "Epoch 63/100\n",
            "121/121 [==============================] - 2s 20ms/step - loss: 3.8431 - accuracy: 0.2147\n",
            "Epoch 64/100\n",
            "121/121 [==============================] - 2s 20ms/step - loss: 3.8188 - accuracy: 0.2158\n",
            "Epoch 65/100\n",
            "121/121 [==============================] - 2s 20ms/step - loss: 3.8010 - accuracy: 0.2186\n",
            "Epoch 66/100\n",
            "121/121 [==============================] - 2s 20ms/step - loss: 3.7850 - accuracy: 0.2221\n",
            "Epoch 67/100\n",
            "121/121 [==============================] - 2s 20ms/step - loss: 3.7877 - accuracy: 0.2224\n",
            "Epoch 68/100\n",
            "121/121 [==============================] - 2s 20ms/step - loss: 3.7784 - accuracy: 0.2192\n",
            "Epoch 69/100\n",
            "121/121 [==============================] - 2s 20ms/step - loss: 3.7547 - accuracy: 0.2279\n",
            "Epoch 70/100\n",
            "121/121 [==============================] - 2s 20ms/step - loss: 3.7421 - accuracy: 0.2266\n",
            "Epoch 71/100\n",
            "121/121 [==============================] - 2s 20ms/step - loss: 3.7448 - accuracy: 0.2258\n",
            "Epoch 72/100\n",
            "121/121 [==============================] - 2s 21ms/step - loss: 3.7431 - accuracy: 0.2278\n",
            "Epoch 73/100\n",
            "121/121 [==============================] - 2s 20ms/step - loss: 3.7397 - accuracy: 0.2285\n",
            "Epoch 74/100\n",
            "121/121 [==============================] - 2s 20ms/step - loss: 3.7119 - accuracy: 0.2324\n",
            "Epoch 75/100\n",
            "121/121 [==============================] - 2s 21ms/step - loss: 3.6753 - accuracy: 0.2365\n",
            "Epoch 76/100\n",
            "121/121 [==============================] - 2s 20ms/step - loss: 3.6636 - accuracy: 0.2396\n",
            "Epoch 77/100\n",
            "121/121 [==============================] - 2s 20ms/step - loss: 3.6473 - accuracy: 0.2388\n",
            "Epoch 78/100\n",
            "121/121 [==============================] - 2s 20ms/step - loss: 3.6371 - accuracy: 0.2443\n",
            "Epoch 79/100\n",
            "121/121 [==============================] - 2s 20ms/step - loss: 3.6183 - accuracy: 0.2482\n",
            "Epoch 80/100\n",
            "121/121 [==============================] - 2s 20ms/step - loss: 3.6355 - accuracy: 0.2438\n",
            "Epoch 81/100\n",
            "121/121 [==============================] - 2s 20ms/step - loss: 3.6464 - accuracy: 0.2428\n",
            "Epoch 82/100\n",
            "121/121 [==============================] - 2s 20ms/step - loss: 3.6000 - accuracy: 0.2465\n",
            "Epoch 83/100\n",
            "121/121 [==============================] - 2s 20ms/step - loss: 3.5822 - accuracy: 0.2500\n",
            "Epoch 84/100\n",
            "121/121 [==============================] - 2s 20ms/step - loss: 3.5681 - accuracy: 0.2557\n",
            "Epoch 85/100\n",
            "121/121 [==============================] - 2s 20ms/step - loss: 3.5752 - accuracy: 0.2501\n",
            "Epoch 86/100\n",
            "121/121 [==============================] - 2s 20ms/step - loss: 3.5568 - accuracy: 0.2511\n",
            "Epoch 87/100\n",
            "121/121 [==============================] - 2s 20ms/step - loss: 3.5597 - accuracy: 0.2544\n",
            "Epoch 88/100\n",
            "121/121 [==============================] - 2s 20ms/step - loss: 3.5537 - accuracy: 0.2572\n",
            "Epoch 89/100\n",
            "121/121 [==============================] - 2s 20ms/step - loss: 3.5502 - accuracy: 0.2558\n",
            "Epoch 90/100\n",
            "121/121 [==============================] - 2s 20ms/step - loss: 3.5440 - accuracy: 0.2560\n",
            "Epoch 91/100\n",
            "121/121 [==============================] - 2s 20ms/step - loss: 3.5229 - accuracy: 0.2582\n",
            "Epoch 92/100\n",
            "121/121 [==============================] - 2s 20ms/step - loss: 3.5116 - accuracy: 0.2628\n",
            "Epoch 93/100\n",
            "121/121 [==============================] - 2s 20ms/step - loss: 3.4939 - accuracy: 0.2612\n",
            "Epoch 94/100\n",
            "121/121 [==============================] - 2s 20ms/step - loss: 3.4923 - accuracy: 0.2689\n",
            "Epoch 95/100\n",
            "121/121 [==============================] - 2s 20ms/step - loss: 3.4824 - accuracy: 0.2692\n",
            "Epoch 96/100\n",
            "121/121 [==============================] - 2s 20ms/step - loss: 3.4779 - accuracy: 0.2634\n",
            "Epoch 97/100\n",
            "121/121 [==============================] - 2s 20ms/step - loss: 3.4584 - accuracy: 0.2726\n",
            "Epoch 98/100\n",
            "121/121 [==============================] - 2s 19ms/step - loss: 3.4473 - accuracy: 0.2725\n",
            "Epoch 99/100\n",
            "121/121 [==============================] - 2s 20ms/step - loss: 3.4474 - accuracy: 0.2775\n",
            "Epoch 100/100\n",
            "121/121 [==============================] - 2s 20ms/step - loss: 3.4552 - accuracy: 0.2679\n"
          ]
        }
      ]
    },
    {
      "cell_type": "code",
      "metadata": {
        "id": "m1I3GRF1iDXp",
        "outputId": "eef5cbd2-ef15-4c16-8e9e-33e45b477235",
        "colab": {
          "base_uri": "https://localhost:8080/"
        }
      },
      "source": [
        "history.history.keys()"
      ],
      "execution_count": 18,
      "outputs": [
        {
          "output_type": "execute_result",
          "data": {
            "text/plain": [
              "dict_keys(['loss', 'accuracy'])"
            ]
          },
          "metadata": {},
          "execution_count": 18
        }
      ]
    },
    {
      "cell_type": "code",
      "metadata": {
        "id": "1fXTEO3GJ282",
        "outputId": "c42afecf-f209-4815-f716-dba6ba3bc3c2",
        "colab": {
          "base_uri": "https://localhost:8080/",
          "height": 545
        }
      },
      "source": [
        "import matplotlib.pyplot as plt\n",
        "acc = history.history['accuracy']\n",
        "loss = history.history['loss']\n",
        "\n",
        "epochs = range(len(acc))\n",
        "\n",
        "plt.plot(epochs, acc, 'b', label='Training accuracy')\n",
        "plt.title('Training accuracy')\n",
        "\n",
        "plt.figure()\n",
        "\n",
        "plt.plot(epochs, loss, 'b', label='Training Loss')\n",
        "plt.title('Training loss')\n",
        "plt.legend()\n",
        "\n",
        "plt.show()"
      ],
      "execution_count": 38,
      "outputs": [
        {
          "output_type": "display_data",
          "data": {
            "image/png": "[encoded data removed]",
            "text/plain": [
              "<Figure size 432x288 with 1 Axes>"
            ]
          },
          "metadata": {
            "needs_background": "light"
          }
        },
        {
          "output_type": "display_data",
          "data": {
            "image/png": "[encoded data removed]",
            "text/plain": [
              "<Figure size 432x288 with 1 Axes>"
            ]
          },
          "metadata": {
            "needs_background": "light"
          }
        }
      ]
    },
    {
      "cell_type": "code",
      "metadata": {
        "id": "6Vc6PHgxa6Hm",
        "outputId": "aa46c761-1dfb-4a88-c7d1-7ceda8ec78fe",
        "colab": {
          "base_uri": "https://localhost:8080/"
        }
      },
      "source": [
        "seed_text = \"Help me Obi Wan Kenobi, you're my only hope\"\n",
        "next_words = 100\n",
        "  \n",
        "for _ in range(next_words):\n",
        "\ttoken_list = tokenizer.texts_to_sequences([seed_text])[0]\n",
        "\ttoken_list = pad_sequences([token_list], maxlen=max_sequence_len-1, padding='pre')\n",
        "\tpredicted =   np.argmax(model.predict(token_list), axis=-1) #model.predict_classes(token_list, verbose=0)\n",
        "\toutput_word = \"\"\n",
        "\tfor word, index in tokenizer.word_index.items():\n",
        "\t\tif index == predicted:\n",
        "\t\t\toutput_word = word\n",
        "\t\t\tbreak\n",
        "\tseed_text += \" \" + output_word\n",
        "print(seed_text)"
      ],
      "execution_count": 35,
      "outputs": [
        {
          "output_type": "stream",
          "name": "stdout",
          "text": [
            "Help me Obi Wan Kenobi, you're my only hope the the the the the the the the the the the the the the the the the the the the the the the the the the the the the the the the the the the the the the the the the the the the the the the the the the the the the the the the the the the the the the the the the the the the the the the the the the the the the the the the the the the the the the the the the the the the the the the the the the the the\n"
          ]
        }
      ]
    },
    {
      "cell_type": "code",
      "metadata": {
        "id": "6vIPujNYqPmu"
      },
      "source": [
        ""
      ],
      "execution_count": null,
      "outputs": []
    }
  ]
}