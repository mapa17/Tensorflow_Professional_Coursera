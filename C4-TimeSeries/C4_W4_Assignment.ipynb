{
  "nbformat": 4,
  "nbformat_minor": 0,
  "metadata": {
    "accelerator": "GPU",
    "colab": {
      "name": "C4_W4_Assignment.ipynb",
      "provenance": [],
      "collapsed_sections": []
    },
    "kernelspec": {
      "display_name": "Python 3",
      "language": "python",
      "name": "python3"
    },
    "language_info": {
      "codemirror_mode": {
        "name": "ipython",
        "version": 3
      },
      "file_extension": ".py",
      "mimetype": "text/x-python",
      "name": "python",
      "nbconvert_exporter": "python",
      "pygments_lexer": "ipython3",
      "version": "3.8.5"
    }
  },
  "cells": [
    {
      "cell_type": "code",
      "metadata": {
        "id": "zX4Kg8DUTKWO"
      },
      "source": [
        "#@title Licensed under the Apache License, Version 2.0 (the \"License\");\n",
        "# you may not use this file except in compliance with the License.\n",
        "# You may obtain a copy of the License at\n",
        "#\n",
        "# https://www.apache.org/licenses/LICENSE-2.0\n",
        "#\n",
        "# Unless required by applicable law or agreed to in writing, software\n",
        "# distributed under the License is distributed on an \"AS IS\" BASIS,\n",
        "# WITHOUT WARRANTIES OR CONDITIONS OF ANY KIND, either express or implied.\n",
        "# See the License for the specific language governing permissions and\n",
        "# limitations under the License."
      ],
      "execution_count": null,
      "outputs": []
    },
    {
      "cell_type": "markdown",
      "metadata": {
        "id": "1m0njwZtsvy_"
      },
      "source": [
        "**Note:** This notebook can run using TensorFlow 2.5.0"
      ]
    },
    {
      "cell_type": "code",
      "metadata": {
        "id": "D5DDeGwLsvzA"
      },
      "source": [
        "#!pip install tensorflow==2.5.0"
      ],
      "execution_count": null,
      "outputs": []
    },
    {
      "cell_type": "code",
      "metadata": {
        "id": "56XEQOGknrAk",
        "outputId": "a0ab8c2e-482d-4c21-84fc-6aaef70b41c4",
        "colab": {
          "base_uri": "https://localhost:8080/"
        }
      },
      "source": [
        "import tensorflow as tf\n",
        "print(tf.__version__)"
      ],
      "execution_count": 2,
      "outputs": [
        {
          "output_type": "stream",
          "name": "stdout",
          "text": [
            "2.7.0\n"
          ]
        }
      ]
    },
    {
      "cell_type": "code",
      "metadata": {
        "id": "sLl52leVp5wU"
      },
      "source": [
        "import numpy as np\n",
        "import matplotlib.pyplot as plt\n",
        "def plot_series(time, series, format=\"-\", start=0, end=None):\n",
        "    plt.plot(time[start:end], series[start:end], format)\n",
        "    plt.xlabel(\"Time\")\n",
        "    plt.ylabel(\"Value\")\n",
        "    plt.grid(True)"
      ],
      "execution_count": 3,
      "outputs": []
    },
    {
      "cell_type": "code",
      "metadata": {
        "id": "tP7oqUdkk0gY",
        "outputId": "90abd342-f85f-412a-b307-d312a2003e72",
        "colab": {
          "base_uri": "https://localhost:8080/"
        }
      },
      "source": [
        "!wget --no-check-certificate \\\n",
        "    https://raw.githubusercontent.com/jbrownlee/Datasets/master/daily-min-temperatures.csv \\\n",
        "    -O /tmp/daily-min-temperatures.csv"
      ],
      "execution_count": 4,
      "outputs": [
        {
          "output_type": "stream",
          "name": "stdout",
          "text": [
            "--2021-12-13 22:08:56--  https://raw.githubusercontent.com/jbrownlee/Datasets/master/daily-min-temperatures.csv\n",
            "Resolving raw.githubusercontent.com (raw.githubusercontent.com)... 185.199.108.133, 185.199.109.133, 185.199.110.133, ...\n",
            "Connecting to raw.githubusercontent.com (raw.githubusercontent.com)|185.199.108.133|:443... connected.\n",
            "HTTP request sent, awaiting response... 200 OK\n",
            "Length: 67921 (66K) [text/plain]\n",
            "Saving to: ‘/tmp/daily-min-temperatures.csv’\n",
            "\n",
            "/tmp/daily-min-temp 100%[===================>]  66.33K  --.-KB/s    in 0.01s   \n",
            "\n",
            "2021-12-13 22:08:56 (5.56 MB/s) - ‘/tmp/daily-min-temperatures.csv’ saved [67921/67921]\n",
            "\n"
          ]
        }
      ]
    },
    {
      "cell_type": "code",
      "source": [
        "!head /tmp/daily-min-temperatures.csv"
      ],
      "metadata": {
        "id": "TLbQQlQtdyvX",
        "outputId": "e0997699-7aaa-4570-8bf1-8a3fb90a9ad2",
        "colab": {
          "base_uri": "https://localhost:8080/"
        }
      },
      "execution_count": 5,
      "outputs": [
        {
          "output_type": "stream",
          "name": "stdout",
          "text": [
            "\"Date\",\"Temp\"\r\n",
            "\"1981-01-01\",20.7\r\n",
            "\"1981-01-02\",17.9\r\n",
            "\"1981-01-03\",18.8\r\n",
            "\"1981-01-04\",14.6\r\n",
            "\"1981-01-05\",15.8\r\n",
            "\"1981-01-06\",15.8\r\n",
            "\"1981-01-07\",15.8\r\n",
            "\"1981-01-08\",17.4\r\n",
            "\"1981-01-09\",21.8\r\n"
          ]
        }
      ]
    },
    {
      "cell_type": "code",
      "metadata": {
        "id": "NcG9r1eClbTh",
        "outputId": "427a8f90-878e-4a24-ea3e-b6fd88b55c6b",
        "colab": {
          "base_uri": "https://localhost:8080/",
          "height": 388
        }
      },
      "source": [
        "import csv\n",
        "time_step = []\n",
        "temps = []\n",
        "\n",
        "with open('/tmp/daily-min-temperatures.csv') as csvfile:\n",
        "# YOUR CODE HERE. READ TEMPERATURES INTO TEMPS\n",
        "# HAVE TIME STEPS BE A SIMPLE ARRAY OF 1, 2, 3, 4 etc\n",
        "  reader = csv.reader(csvfile, delimiter=',')\n",
        "  header = next(reader)\n",
        "  for idx, row in enumerate(reader):\n",
        "    time_step.append(idx)\n",
        "    temps.append(float(row[1]))\n",
        "\n",
        "\n",
        "series = np.array(temps)\n",
        "time = np.array(time_step)\n",
        "plt.figure(figsize=(10, 6))\n",
        "plot_series(time, series)"
      ],
      "execution_count": 6,
      "outputs": [
        {
          "output_type": "display_data",
          "data": {
            "image/png": "[encoded data removed]",
            "text/plain": [
              "<Figure size 720x432 with 1 Axes>"
            ]
          },
          "metadata": {
            "needs_background": "light"
          }
        }
      ]
    },
    {
      "cell_type": "code",
      "metadata": {
        "id": "L92YRw_IpCFG"
      },
      "source": [
        "split_time = 2500\n",
        "time_train = np.array(time[:split_time])\n",
        "x_train = np.array(temps[:split_time])\n",
        "time_valid = np.array(time[split_time:])\n",
        "x_valid = np.array(temps[split_time:])\n",
        "\n",
        "window_size = 30\n",
        "batch_size = 32\n",
        "shuffle_buffer_size = 1000\n"
      ],
      "execution_count": 7,
      "outputs": []
    },
    {
      "cell_type": "code",
      "metadata": {
        "id": "lJwUUZscnG38"
      },
      "source": [
        "def windowed_dataset(series, window_size, batch_size, shuffle_buffer):\n",
        "  # Add one dimension so you can use the tf window option\n",
        "  series = tf.expand_dims(series, axis=-1)\n",
        "  ds = tf.data.Dataset.from_tensor_slices(series)\n",
        "  \n",
        "  # Create a sliding window shifting one element per iteration\n",
        "  # https://www.tensorflow.org/api_docs/python/tf/data/Dataset#window \n",
        "  ds = ds.window(window_size+1, shift=1, drop_remainder=True)\n",
        "\n",
        "  # Combine all elements of a window again to one \"datapoint\"\n",
        "  ds = ds.flat_map(lambda w: w.batch(window_size + 1))\n",
        "\n",
        "  # Get random datapoints per epoch\n",
        "  ds = ds.shuffle(shuffle_buffer)\n",
        "\n",
        "  # Split away the last element as the label/prediction/y\n",
        "  ds = ds.map(lambda w: (w[:-1], w[1:]))\n",
        "\n",
        "  # No clue why to do prefetch? Maybe use the CPU while the\n",
        "  # GPU is training?\n",
        "  return ds.batch(batch_size).prefetch(1)\n"
      ],
      "execution_count": 8,
      "outputs": []
    },
    {
      "cell_type": "code",
      "metadata": {
        "id": "4XwGrf-A_wF0"
      },
      "source": [
        "def model_forecast(model, series, window_size):\n",
        "  # Add one dimension so you can use the tf window option\n",
        "  series = tf.expand_dims(series, axis=-1)\n",
        "  ds = tf.data.Dataset.from_tensor_slices(series)\n",
        "  \n",
        "  # Create a sliding window shifting one element per iteration\n",
        "  # https://www.tensorflow.org/api_docs/python/tf/data/Dataset#window \n",
        "  ds = ds.window(window_size, shift=1, drop_remainder=True)\n",
        "\n",
        "  # Combine all elements of a window again to one \"datapoint\"\n",
        "  ds = ds.flat_map(lambda w: w.batch(window_size))\n",
        "\n",
        "  # This needs to be batched, if not, during calling\n",
        "  # the forecast, there are far to many results. Why???\n",
        "  # Without the batch stament, ther result is [N, 1, 1]\n",
        "  # With batching its [X, window_size, 1]\n",
        "  ds = ds.batch(32).prefetch(1)\n",
        "\n",
        "  return model.predict(ds)"
      ],
      "execution_count": 46,
      "outputs": []
    },
    {
      "cell_type": "code",
      "metadata": {
        "id": "AclfYY3Mn6Ph",
        "outputId": "b82ac292-a8e2-4d7a-a51f-88e9b6a20e14",
        "colab": {
          "base_uri": "https://localhost:8080/"
        }
      },
      "source": [
        "tf.keras.backend.clear_session()\n",
        "tf.random.set_seed(51)\n",
        "np.random.seed(51)\n",
        "window_size = 64\n",
        "batch_size = 256\n",
        "\n",
        "train_set = windowed_dataset(x_train, window_size, batch_size, shuffle_buffer_size)\n",
        "\n",
        "print(train_set)\n",
        "print(x_train.shape)\n",
        "\n",
        "model = tf.keras.models.Sequential([\n",
        "  tf.keras.layers.Conv1D(32, kernel_size=5, strides=1, padding='causal', input_shape=[None, 1], activation='relu'),\n",
        "  tf.keras.layers.LSTM(60, return_sequences=True),\n",
        "  tf.keras.layers.LSTM(60, return_sequences=True),\n",
        "  tf.keras.layers.Dense(30, activation='relu'),\n",
        "  tf.keras.layers.Dense(10, activation='relu'),\n",
        "  tf.keras.layers.Dense(1),\n",
        "  tf.keras.layers.Lambda(lambda x: x*400.0)\n",
        "])\n",
        "\n",
        "lr_schedule = tf.keras.callbacks.LearningRateScheduler(\n",
        "    lambda epoch: 1e-8 * 10**(epoch / 20))\n",
        "optimizer = tf.keras.optimizers.SGD(learning_rate=1e-8, momentum=0.9)\n",
        "model.compile(loss=tf.keras.losses.Huber(),\n",
        "              optimizer=optimizer,\n",
        "              metrics=[\"mae\"])\n",
        "history = model.fit(train_set, epochs=100, callbacks=[lr_schedule], batch_size=128)\n"
      ],
      "execution_count": 13,
      "outputs": [
        {
          "output_type": "stream",
          "name": "stdout",
          "text": [
            "<PrefetchDataset shapes: ((None, None, 1), (None, None, 1)), types: (tf.float64, tf.float64)>\n",
            "(2500,)\n",
            "Epoch 1/100\n",
            "10/10 [==============================] - 5s 52ms/step - loss: 40.9903 - mae: 41.4903 - lr: 1.0000e-08\n",
            "Epoch 2/100\n",
            "10/10 [==============================] - 1s 66ms/step - loss: 40.3496 - mae: 40.8496 - lr: 1.1220e-08\n",
            "Epoch 3/100\n",
            "10/10 [==============================] - 1s 61ms/step - loss: 39.3670 - mae: 39.8670 - lr: 1.2589e-08\n",
            "Epoch 4/100\n",
            "10/10 [==============================] - 1s 62ms/step - loss: 38.1684 - mae: 38.6684 - lr: 1.4125e-08\n",
            "Epoch 5/100\n",
            "10/10 [==============================] - 1s 64ms/step - loss: 36.7866 - mae: 37.2866 - lr: 1.5849e-08\n",
            "Epoch 6/100\n",
            "10/10 [==============================] - 1s 64ms/step - loss: 35.2164 - mae: 35.7163 - lr: 1.7783e-08\n",
            "Epoch 7/100\n",
            "10/10 [==============================] - 1s 66ms/step - loss: 33.4457 - mae: 33.9456 - lr: 1.9953e-08\n",
            "Epoch 8/100\n",
            "10/10 [==============================] - 1s 62ms/step - loss: 31.4499 - mae: 31.9499 - lr: 2.2387e-08\n",
            "Epoch 9/100\n",
            "10/10 [==============================] - 1s 62ms/step - loss: 29.2111 - mae: 29.7110 - lr: 2.5119e-08\n",
            "Epoch 10/100\n",
            "10/10 [==============================] - 1s 64ms/step - loss: 26.7077 - mae: 27.2077 - lr: 2.8184e-08\n",
            "Epoch 11/100\n",
            "10/10 [==============================] - 1s 63ms/step - loss: 23.9031 - mae: 24.4030 - lr: 3.1623e-08\n",
            "Epoch 12/100\n",
            "10/10 [==============================] - 1s 67ms/step - loss: 20.7827 - mae: 21.2825 - lr: 3.5481e-08\n",
            "Epoch 13/100\n",
            "10/10 [==============================] - 1s 66ms/step - loss: 17.2955 - mae: 17.7953 - lr: 3.9811e-08\n",
            "Epoch 14/100\n",
            "10/10 [==============================] - 1s 65ms/step - loss: 13.4050 - mae: 13.9042 - lr: 4.4668e-08\n",
            "Epoch 15/100\n",
            "10/10 [==============================] - 1s 65ms/step - loss: 9.1825 - mae: 9.6785 - lr: 5.0119e-08\n",
            "Epoch 16/100\n",
            "10/10 [==============================] - 1s 64ms/step - loss: 5.3158 - mae: 5.7962 - lr: 5.6234e-08\n",
            "Epoch 17/100\n",
            "10/10 [==============================] - 1s 66ms/step - loss: 3.9158 - mae: 4.3848 - lr: 6.3096e-08\n",
            "Epoch 18/100\n",
            "10/10 [==============================] - 1s 62ms/step - loss: 3.9937 - mae: 4.4658 - lr: 7.0795e-08\n",
            "Epoch 19/100\n",
            "10/10 [==============================] - 1s 67ms/step - loss: 3.8464 - mae: 4.3163 - lr: 7.9433e-08\n",
            "Epoch 20/100\n",
            "10/10 [==============================] - 1s 64ms/step - loss: 3.7850 - mae: 4.2517 - lr: 8.9125e-08\n",
            "Epoch 21/100\n",
            "10/10 [==============================] - 1s 65ms/step - loss: 3.7588 - mae: 4.2258 - lr: 1.0000e-07\n",
            "Epoch 22/100\n",
            "10/10 [==============================] - 1s 66ms/step - loss: 3.7205 - mae: 4.1873 - lr: 1.1220e-07\n",
            "Epoch 23/100\n",
            "10/10 [==============================] - 1s 66ms/step - loss: 3.6854 - mae: 4.1523 - lr: 1.2589e-07\n",
            "Epoch 24/100\n",
            "10/10 [==============================] - 1s 66ms/step - loss: 3.6478 - mae: 4.1144 - lr: 1.4125e-07\n",
            "Epoch 25/100\n",
            "10/10 [==============================] - 1s 66ms/step - loss: 3.6082 - mae: 4.0750 - lr: 1.5849e-07\n",
            "Epoch 26/100\n",
            "10/10 [==============================] - 1s 65ms/step - loss: 3.5651 - mae: 4.0319 - lr: 1.7783e-07\n",
            "Epoch 27/100\n",
            "10/10 [==============================] - 1s 66ms/step - loss: 3.5189 - mae: 3.9857 - lr: 1.9953e-07\n",
            "Epoch 28/100\n",
            "10/10 [==============================] - 1s 68ms/step - loss: 3.4694 - mae: 3.9359 - lr: 2.2387e-07\n",
            "Epoch 29/100\n",
            "10/10 [==============================] - 1s 66ms/step - loss: 3.4170 - mae: 3.8834 - lr: 2.5119e-07\n",
            "Epoch 30/100\n",
            "10/10 [==============================] - 1s 64ms/step - loss: 3.3611 - mae: 3.8274 - lr: 2.8184e-07\n",
            "Epoch 31/100\n",
            "10/10 [==============================] - 1s 65ms/step - loss: 3.3028 - mae: 3.7687 - lr: 3.1623e-07\n",
            "Epoch 32/100\n",
            "10/10 [==============================] - 1s 66ms/step - loss: 3.2400 - mae: 3.7052 - lr: 3.5481e-07\n",
            "Epoch 33/100\n",
            "10/10 [==============================] - 1s 65ms/step - loss: 3.1751 - mae: 3.6401 - lr: 3.9811e-07\n",
            "Epoch 34/100\n",
            "10/10 [==============================] - 1s 64ms/step - loss: 3.1070 - mae: 3.5711 - lr: 4.4668e-07\n",
            "Epoch 35/100\n",
            "10/10 [==============================] - 1s 65ms/step - loss: 3.0373 - mae: 3.5012 - lr: 5.0119e-07\n",
            "Epoch 36/100\n",
            "10/10 [==============================] - 1s 63ms/step - loss: 2.9673 - mae: 3.4307 - lr: 5.6234e-07\n",
            "Epoch 37/100\n",
            "10/10 [==============================] - 1s 67ms/step - loss: 2.8970 - mae: 3.3598 - lr: 6.3096e-07\n",
            "Epoch 38/100\n",
            "10/10 [==============================] - 1s 64ms/step - loss: 2.8282 - mae: 3.2904 - lr: 7.0795e-07\n",
            "Epoch 39/100\n",
            "10/10 [==============================] - 1s 67ms/step - loss: 2.7630 - mae: 3.2247 - lr: 7.9433e-07\n",
            "Epoch 40/100\n",
            "10/10 [==============================] - 1s 66ms/step - loss: 2.7017 - mae: 3.1633 - lr: 8.9125e-07\n",
            "Epoch 41/100\n",
            "10/10 [==============================] - 1s 62ms/step - loss: 2.6431 - mae: 3.1041 - lr: 1.0000e-06\n",
            "Epoch 42/100\n",
            "10/10 [==============================] - 1s 63ms/step - loss: 2.5903 - mae: 3.0507 - lr: 1.1220e-06\n",
            "Epoch 43/100\n",
            "10/10 [==============================] - 1s 63ms/step - loss: 2.5424 - mae: 3.0027 - lr: 1.2589e-06\n",
            "Epoch 44/100\n",
            "10/10 [==============================] - 1s 61ms/step - loss: 2.4961 - mae: 2.9564 - lr: 1.4125e-06\n",
            "Epoch 45/100\n",
            "10/10 [==============================] - 1s 66ms/step - loss: 2.4516 - mae: 2.9119 - lr: 1.5849e-06\n",
            "Epoch 46/100\n",
            "10/10 [==============================] - 1s 63ms/step - loss: 2.4075 - mae: 2.8674 - lr: 1.7783e-06\n",
            "Epoch 47/100\n",
            "10/10 [==============================] - 1s 68ms/step - loss: 2.3658 - mae: 2.8255 - lr: 1.9953e-06\n",
            "Epoch 48/100\n",
            "10/10 [==============================] - 1s 64ms/step - loss: 2.3176 - mae: 2.7768 - lr: 2.2387e-06\n",
            "Epoch 49/100\n",
            "10/10 [==============================] - 1s 68ms/step - loss: 2.2790 - mae: 2.7381 - lr: 2.5119e-06\n",
            "Epoch 50/100\n",
            "10/10 [==============================] - 1s 68ms/step - loss: 2.2405 - mae: 2.6990 - lr: 2.8184e-06\n",
            "Epoch 51/100\n",
            "10/10 [==============================] - 1s 67ms/step - loss: 2.2049 - mae: 2.6629 - lr: 3.1623e-06\n",
            "Epoch 52/100\n",
            "10/10 [==============================] - 1s 66ms/step - loss: 2.1686 - mae: 2.6261 - lr: 3.5481e-06\n",
            "Epoch 53/100\n",
            "10/10 [==============================] - 1s 65ms/step - loss: 2.1376 - mae: 2.5943 - lr: 3.9811e-06\n",
            "Epoch 54/100\n",
            "10/10 [==============================] - 1s 65ms/step - loss: 2.1060 - mae: 2.5621 - lr: 4.4668e-06\n",
            "Epoch 55/100\n",
            "10/10 [==============================] - 1s 66ms/step - loss: 2.0759 - mae: 2.5314 - lr: 5.0119e-06\n",
            "Epoch 56/100\n",
            "10/10 [==============================] - 1s 68ms/step - loss: 2.0526 - mae: 2.5079 - lr: 5.6234e-06\n",
            "Epoch 57/100\n",
            "10/10 [==============================] - 1s 65ms/step - loss: 2.0263 - mae: 2.4810 - lr: 6.3096e-06\n",
            "Epoch 58/100\n",
            "10/10 [==============================] - 1s 61ms/step - loss: 2.0001 - mae: 2.4535 - lr: 7.0795e-06\n",
            "Epoch 59/100\n",
            "10/10 [==============================] - 1s 65ms/step - loss: 1.9823 - mae: 2.4356 - lr: 7.9433e-06\n",
            "Epoch 60/100\n",
            "10/10 [==============================] - 1s 65ms/step - loss: 1.9640 - mae: 2.4167 - lr: 8.9125e-06\n",
            "Epoch 61/100\n",
            "10/10 [==============================] - 1s 67ms/step - loss: 1.9693 - mae: 2.4244 - lr: 1.0000e-05\n",
            "Epoch 62/100\n",
            "10/10 [==============================] - 1s 64ms/step - loss: 1.9383 - mae: 2.3913 - lr: 1.1220e-05\n",
            "Epoch 63/100\n",
            "10/10 [==============================] - 1s 65ms/step - loss: 1.9444 - mae: 2.3972 - lr: 1.2589e-05\n",
            "Epoch 64/100\n",
            "10/10 [==============================] - 1s 64ms/step - loss: 2.1001 - mae: 2.5572 - lr: 1.4125e-05\n",
            "Epoch 65/100\n",
            "10/10 [==============================] - 1s 65ms/step - loss: 2.4524 - mae: 2.9159 - lr: 1.5849e-05\n",
            "Epoch 66/100\n",
            "10/10 [==============================] - 1s 64ms/step - loss: 2.7729 - mae: 3.2426 - lr: 1.7783e-05\n",
            "Epoch 67/100\n",
            "10/10 [==============================] - 1s 62ms/step - loss: 2.4254 - mae: 2.8894 - lr: 1.9953e-05\n",
            "Epoch 68/100\n",
            "10/10 [==============================] - 1s 63ms/step - loss: 2.1640 - mae: 2.6224 - lr: 2.2387e-05\n",
            "Epoch 69/100\n",
            "10/10 [==============================] - 1s 66ms/step - loss: 1.9818 - mae: 2.4362 - lr: 2.5119e-05\n",
            "Epoch 70/100\n",
            "10/10 [==============================] - 1s 64ms/step - loss: 2.1542 - mae: 2.6124 - lr: 2.8184e-05\n",
            "Epoch 71/100\n",
            "10/10 [==============================] - 1s 63ms/step - loss: 2.0019 - mae: 2.4577 - lr: 3.1623e-05\n",
            "Epoch 72/100\n",
            "10/10 [==============================] - 1s 64ms/step - loss: 1.8867 - mae: 2.3399 - lr: 3.5481e-05\n",
            "Epoch 73/100\n",
            "10/10 [==============================] - 1s 68ms/step - loss: 2.3495 - mae: 2.8110 - lr: 3.9811e-05\n",
            "Epoch 74/100\n",
            "10/10 [==============================] - 1s 62ms/step - loss: 2.8513 - mae: 3.3196 - lr: 4.4668e-05\n",
            "Epoch 75/100\n",
            "10/10 [==============================] - 1s 65ms/step - loss: 2.7783 - mae: 3.2451 - lr: 5.0119e-05\n",
            "Epoch 76/100\n",
            "10/10 [==============================] - 1s 64ms/step - loss: 2.8347 - mae: 3.3035 - lr: 5.6234e-05\n",
            "Epoch 77/100\n",
            "10/10 [==============================] - 1s 64ms/step - loss: 3.1275 - mae: 3.5975 - lr: 6.3096e-05\n",
            "Epoch 78/100\n",
            "10/10 [==============================] - 1s 65ms/step - loss: 3.8630 - mae: 4.3391 - lr: 7.0795e-05\n",
            "Epoch 79/100\n",
            "10/10 [==============================] - 1s 63ms/step - loss: 3.9331 - mae: 4.4082 - lr: 7.9433e-05\n",
            "Epoch 80/100\n",
            "10/10 [==============================] - 1s 63ms/step - loss: 4.1925 - mae: 4.6716 - lr: 8.9125e-05\n",
            "Epoch 81/100\n",
            "10/10 [==============================] - 1s 64ms/step - loss: 3.7263 - mae: 4.2029 - lr: 1.0000e-04\n",
            "Epoch 82/100\n",
            "10/10 [==============================] - 1s 64ms/step - loss: 3.3579 - mae: 3.8312 - lr: 1.1220e-04\n",
            "Epoch 83/100\n",
            "10/10 [==============================] - 1s 63ms/step - loss: 5.4463 - mae: 5.9281 - lr: 1.2589e-04\n",
            "Epoch 84/100\n",
            "10/10 [==============================] - 1s 65ms/step - loss: 5.4682 - mae: 5.9518 - lr: 1.4125e-04\n",
            "Epoch 85/100\n",
            "10/10 [==============================] - 1s 64ms/step - loss: 4.9956 - mae: 5.4793 - lr: 1.5849e-04\n",
            "Epoch 86/100\n",
            "10/10 [==============================] - 1s 67ms/step - loss: 5.3826 - mae: 5.8650 - lr: 1.7783e-04\n",
            "Epoch 87/100\n",
            "10/10 [==============================] - 1s 64ms/step - loss: 9.4337 - mae: 9.9202 - lr: 1.9953e-04\n",
            "Epoch 88/100\n",
            "10/10 [==============================] - 1s 62ms/step - loss: 17.4011 - mae: 17.9005 - lr: 2.2387e-04\n",
            "Epoch 89/100\n",
            "10/10 [==============================] - 1s 64ms/step - loss: 22.0368 - mae: 22.5341 - lr: 2.5119e-04\n",
            "Epoch 90/100\n",
            "10/10 [==============================] - 1s 64ms/step - loss: 40.9319 - mae: 41.4284 - lr: 2.8184e-04\n",
            "Epoch 91/100\n",
            "10/10 [==============================] - 1s 62ms/step - loss: 50.1221 - mae: 50.6221 - lr: 3.1623e-04\n",
            "Epoch 92/100\n",
            "10/10 [==============================] - 1s 68ms/step - loss: 54.4605 - mae: 54.9603 - lr: 3.5481e-04\n",
            "Epoch 93/100\n",
            "10/10 [==============================] - 1s 67ms/step - loss: 54.6000 - mae: 55.0994 - lr: 3.9811e-04\n",
            "Epoch 94/100\n",
            "10/10 [==============================] - 1s 67ms/step - loss: 62.4347 - mae: 62.9311 - lr: 4.4668e-04\n",
            "Epoch 95/100\n",
            "10/10 [==============================] - 1s 63ms/step - loss: 74.7782 - mae: 75.2748 - lr: 5.0119e-04\n",
            "Epoch 96/100\n",
            "10/10 [==============================] - 1s 64ms/step - loss: 147.3639 - mae: 147.8639 - lr: 5.6234e-04\n",
            "Epoch 97/100\n",
            "10/10 [==============================] - 1s 63ms/step - loss: 156.5139 - mae: 157.0139 - lr: 6.3096e-04\n",
            "Epoch 98/100\n",
            "10/10 [==============================] - 1s 66ms/step - loss: 176.4629 - mae: 176.9616 - lr: 7.0795e-04\n",
            "Epoch 99/100\n",
            "10/10 [==============================] - 1s 68ms/step - loss: 61.2518 - mae: 61.7489 - lr: 7.9433e-04\n",
            "Epoch 100/100\n",
            "10/10 [==============================] - 1s 64ms/step - loss: 118.0234 - mae: 118.5215 - lr: 8.9125e-04\n"
          ]
        }
      ]
    },
    {
      "cell_type": "code",
      "metadata": {
        "id": "vVcKmg7Q_7rD",
        "outputId": "1cb843a0-0422-45ed-86f5-81d6863a14b6",
        "colab": {
          "base_uri": "https://localhost:8080/",
          "height": 290
        }
      },
      "source": [
        "plt.semilogx(history.history[\"lr\"], history.history[\"loss\"])\n",
        "plt.axis([1e-8, 1e-4, 0, 60])"
      ],
      "execution_count": 14,
      "outputs": [
        {
          "output_type": "execute_result",
          "data": {
            "text/plain": [
              "(1e-08, 0.0001, 0.0, 60.0)"
            ]
          },
          "metadata": {},
          "execution_count": 14
        },
        {
          "output_type": "display_data",
          "data": {
            "image/png": "[encoded data removed]",
            "text/plain": [
              "<Figure size 432x288 with 1 Axes>"
            ]
          },
          "metadata": {
            "needs_background": "light"
          }
        }
      ]
    },
    {
      "cell_type": "code",
      "metadata": {
        "id": "QsksvkcXAAgq",
        "outputId": "202b2dea-18a2-4a78-a9b6-32e92fa44d92",
        "colab": {
          "base_uri": "https://localhost:8080/"
        }
      },
      "source": [
        "tf.keras.backend.clear_session()\n",
        "tf.random.set_seed(51)\n",
        "np.random.seed(51)\n",
        "train_set = windowed_dataset(x_train, window_size=60, batch_size=100, shuffle_buffer=shuffle_buffer_size)\n",
        "model = tf.keras.models.Sequential([\n",
        "  tf.keras.layers.Conv1D(60, kernel_size=5, strides=1, padding='causal', input_shape=[None, 1], activation='relu'),\n",
        "  tf.keras.layers.LSTM(60, return_sequences=True),\n",
        "  tf.keras.layers.LSTM(60, return_sequences=True),\n",
        "  tf.keras.layers.Dense(30, activation='relu'),\n",
        "  tf.keras.layers.Dense(10, activation='relu'),\n",
        "  tf.keras.layers.Dense(1),\n",
        "  tf.keras.layers.Lambda(lambda x: x*400.0) \n",
        "])\n",
        "\n",
        "\n",
        "optimizer = tf.keras.optimizers.SGD(learning_rate=1e-5, momentum=0.9)\n",
        "model.compile(loss=tf.keras.losses.Huber(),\n",
        "              optimizer=optimizer,\n",
        "              metrics=[\"mae\"])\n",
        "history = model.fit(train_set,epochs=50)\n",
        "                                    \n",
        "# EXPECTED OUTPUT SHOULD SEE AN MAE OF <2 WITHIN ABOUT 30 EPOCHS"
      ],
      "execution_count": 17,
      "outputs": [
        {
          "output_type": "stream",
          "name": "stdout",
          "text": [
            "Epoch 1/50\n",
            "25/25 [==============================] - 6s 41ms/step - loss: 9.9814 - mae: 10.4694\n",
            "Epoch 2/50\n",
            "25/25 [==============================] - 1s 40ms/step - loss: 2.5295 - mae: 2.9922\n",
            "Epoch 3/50\n",
            "25/25 [==============================] - 1s 40ms/step - loss: 1.9502 - mae: 2.4047\n",
            "Epoch 4/50\n",
            "25/25 [==============================] - 1s 41ms/step - loss: 1.8619 - mae: 2.3151\n",
            "Epoch 5/50\n",
            "25/25 [==============================] - 1s 40ms/step - loss: 1.8215 - mae: 2.2733\n",
            "Epoch 6/50\n",
            "25/25 [==============================] - 1s 38ms/step - loss: 1.7909 - mae: 2.2418\n",
            "Epoch 7/50\n",
            "25/25 [==============================] - 1s 40ms/step - loss: 1.7686 - mae: 2.2186\n",
            "Epoch 8/50\n",
            "25/25 [==============================] - 1s 39ms/step - loss: 1.7413 - mae: 2.1906\n",
            "Epoch 9/50\n",
            "25/25 [==============================] - 1s 39ms/step - loss: 1.7193 - mae: 2.1681\n",
            "Epoch 10/50\n",
            "25/25 [==============================] - 1s 40ms/step - loss: 1.7000 - mae: 2.1482\n",
            "Epoch 11/50\n",
            "25/25 [==============================] - 1s 40ms/step - loss: 1.6811 - mae: 2.1287\n",
            "Epoch 12/50\n",
            "25/25 [==============================] - 1s 41ms/step - loss: 1.6688 - mae: 2.1159\n",
            "Epoch 13/50\n",
            "25/25 [==============================] - 1s 39ms/step - loss: 1.6566 - mae: 2.1030\n",
            "Epoch 14/50\n",
            "25/25 [==============================] - 1s 41ms/step - loss: 1.6434 - mae: 2.0891\n",
            "Epoch 15/50\n",
            "25/25 [==============================] - 1s 40ms/step - loss: 1.6354 - mae: 2.0803\n",
            "Epoch 16/50\n",
            "25/25 [==============================] - 1s 40ms/step - loss: 1.6263 - mae: 2.0710\n",
            "Epoch 17/50\n",
            "25/25 [==============================] - 1s 39ms/step - loss: 1.6140 - mae: 2.0581\n",
            "Epoch 18/50\n",
            "25/25 [==============================] - 1s 40ms/step - loss: 1.6114 - mae: 2.0553\n",
            "Epoch 19/50\n",
            "25/25 [==============================] - 1s 38ms/step - loss: 1.6011 - mae: 2.0444\n",
            "Epoch 20/50\n",
            "25/25 [==============================] - 1s 42ms/step - loss: 1.5933 - mae: 2.0365\n",
            "Epoch 21/50\n",
            "25/25 [==============================] - 1s 38ms/step - loss: 1.5917 - mae: 2.0348\n",
            "Epoch 22/50\n",
            "25/25 [==============================] - 1s 38ms/step - loss: 1.5849 - mae: 2.0276\n",
            "Epoch 23/50\n",
            "25/25 [==============================] - 1s 40ms/step - loss: 1.5806 - mae: 2.0232\n",
            "Epoch 24/50\n",
            "25/25 [==============================] - 1s 41ms/step - loss: 1.5796 - mae: 2.0222\n",
            "Epoch 25/50\n",
            "25/25 [==============================] - 1s 40ms/step - loss: 1.5701 - mae: 2.0121\n",
            "Epoch 26/50\n",
            "25/25 [==============================] - 1s 39ms/step - loss: 1.5665 - mae: 2.0085\n",
            "Epoch 27/50\n",
            "25/25 [==============================] - 1s 40ms/step - loss: 1.5639 - mae: 2.0057\n",
            "Epoch 28/50\n",
            "25/25 [==============================] - 1s 40ms/step - loss: 1.5596 - mae: 2.0014\n",
            "Epoch 29/50\n",
            "25/25 [==============================] - 1s 42ms/step - loss: 1.5573 - mae: 1.9991\n",
            "Epoch 30/50\n",
            "25/25 [==============================] - 1s 40ms/step - loss: 1.5552 - mae: 1.9972\n",
            "Epoch 31/50\n",
            "25/25 [==============================] - 1s 41ms/step - loss: 1.5546 - mae: 1.9967\n",
            "Epoch 32/50\n",
            "25/25 [==============================] - 1s 40ms/step - loss: 1.5520 - mae: 1.9937\n",
            "Epoch 33/50\n",
            "25/25 [==============================] - 1s 39ms/step - loss: 1.5480 - mae: 1.9897\n",
            "Epoch 34/50\n",
            "25/25 [==============================] - 1s 41ms/step - loss: 1.5520 - mae: 1.9939\n",
            "Epoch 35/50\n",
            "25/25 [==============================] - 1s 39ms/step - loss: 1.5489 - mae: 1.9909\n",
            "Epoch 36/50\n",
            "25/25 [==============================] - 1s 41ms/step - loss: 1.5430 - mae: 1.9846\n",
            "Epoch 37/50\n",
            "25/25 [==============================] - 1s 41ms/step - loss: 1.5421 - mae: 1.9836\n",
            "Epoch 38/50\n",
            "25/25 [==============================] - 1s 40ms/step - loss: 1.5402 - mae: 1.9816\n",
            "Epoch 39/50\n",
            "25/25 [==============================] - 1s 41ms/step - loss: 1.5404 - mae: 1.9822\n",
            "Epoch 40/50\n",
            "25/25 [==============================] - 1s 39ms/step - loss: 1.5411 - mae: 1.9829\n",
            "Epoch 41/50\n",
            "25/25 [==============================] - 1s 40ms/step - loss: 1.5354 - mae: 1.9769\n",
            "Epoch 42/50\n",
            "25/25 [==============================] - 1s 41ms/step - loss: 1.5354 - mae: 1.9770\n",
            "Epoch 43/50\n",
            "25/25 [==============================] - 1s 39ms/step - loss: 1.5351 - mae: 1.9768\n",
            "Epoch 44/50\n",
            "25/25 [==============================] - 1s 39ms/step - loss: 1.5360 - mae: 1.9780\n",
            "Epoch 45/50\n",
            "25/25 [==============================] - 1s 41ms/step - loss: 1.5308 - mae: 1.9723\n",
            "Epoch 46/50\n",
            "25/25 [==============================] - 1s 40ms/step - loss: 1.5330 - mae: 1.9748\n",
            "Epoch 47/50\n",
            "25/25 [==============================] - 1s 42ms/step - loss: 1.5285 - mae: 1.9699\n",
            "Epoch 48/50\n",
            "25/25 [==============================] - 1s 41ms/step - loss: 1.5313 - mae: 1.9730\n",
            "Epoch 49/50\n",
            "25/25 [==============================] - 1s 39ms/step - loss: 1.5306 - mae: 1.9724\n",
            "Epoch 50/50\n",
            "25/25 [==============================] - 1s 41ms/step - loss: 1.5262 - mae: 1.9678\n"
          ]
        }
      ]
    },
    {
      "cell_type": "code",
      "metadata": {
        "id": "GaC6NNMRp0lb"
      },
      "source": [
        "rnn_forecast = model_forecast(model, series[..., np.newaxis], window_size)\n",
        "#rnn_forecast = rnn_forecast[split_time - window_size:-1, -1, 0]"
      ],
      "execution_count": 47,
      "outputs": []
    },
    {
      "cell_type": "code",
      "source": [
        "rnn_forecast.shape"
      ],
      "metadata": {
        "id": "WRUOdh0-7Ae5",
        "outputId": "c7ce0ccf-9b1c-4dbe-a62c-26aec9d2c002",
        "colab": {
          "base_uri": "https://localhost:8080/"
        }
      },
      "execution_count": 48,
      "outputs": [
        {
          "output_type": "execute_result",
          "data": {
            "text/plain": [
              "(3587, 64, 1)"
            ]
          },
          "metadata": {},
          "execution_count": 48
        }
      ]
    },
    {
      "cell_type": "code",
      "source": [
        "64*3587"
      ],
      "metadata": {
        "id": "QBFaBwGk9l8m",
        "outputId": "0a93a361-e396-4e80-b728-f1cdf61290cb",
        "colab": {
          "base_uri": "https://localhost:8080/"
        }
      },
      "execution_count": 49,
      "outputs": [
        {
          "output_type": "execute_result",
          "data": {
            "text/plain": [
              "229568"
            ]
          },
          "metadata": {},
          "execution_count": 49
        }
      ]
    },
    {
      "cell_type": "code",
      "source": [
        "a = rnn_forecast[split_time - window_size:-1, -1, 0]"
      ],
      "metadata": {
        "id": "StEWweuk8uJy"
      },
      "execution_count": 42,
      "outputs": []
    },
    {
      "cell_type": "code",
      "source": [
        "a.shape"
      ],
      "metadata": {
        "id": "OevIPU3r86PN",
        "outputId": "81a9f941-d772-4742-eb2f-8b062911e5cf",
        "colab": {
          "base_uri": "https://localhost:8080/"
        }
      },
      "execution_count": 43,
      "outputs": [
        {
          "output_type": "execute_result",
          "data": {
            "text/plain": [
              "(227131,)"
            ]
          },
          "metadata": {},
          "execution_count": 43
        }
      ]
    },
    {
      "cell_type": "code",
      "metadata": {
        "id": "izy6wl2S9d-2",
        "outputId": "49a96bcd-5425-453b-81c5-4442ff4eded7",
        "colab": {
          "base_uri": "https://localhost:8080/",
          "height": 389
        }
      },
      "source": [
        "plt.figure(figsize=(10, 6))\n",
        "plot_series(time_valid, x_valid)\n",
        "plot_series(time_valid, rnn_forecast)\n",
        "\n",
        "# EXPECTED OUTPUT. PLOT SHOULD SHOW PROJECTIONS FOLLOWING ORIGINAL DATA CLOSELY"
      ],
      "execution_count": 27,
      "outputs": [
        {
          "output_type": "display_data",
          "data": {
            "image/png": "[encoded data removed]",
            "text/plain": [
              "<Figure size 720x432 with 1 Axes>"
            ]
          },
          "metadata": {
            "needs_background": "light"
          }
        }
      ]
    },
    {
      "cell_type": "code",
      "metadata": {
        "id": "13XrorC5wQoE",
        "outputId": "0021fcbe-d593-4a8b-dad2-cfd1e02b8459",
        "colab": {
          "base_uri": "https://localhost:8080/"
        }
      },
      "source": [
        "tf.keras.metrics.mean_absolute_error(x_valid, rnn_forecast).numpy()\n",
        "\n",
        "# EXPECTED OUTPUT MAE < 2 -- I GOT 1.789626"
      ],
      "execution_count": 28,
      "outputs": [
        {
          "output_type": "execute_result",
          "data": {
            "text/plain": [
              "1.7893442"
            ]
          },
          "metadata": {},
          "execution_count": 28
        }
      ]
    },
    {
      "cell_type": "code",
      "metadata": {
        "id": "AOVzQXxCwkzP",
        "outputId": "1adc7c18-b0ac-44ff-e990-7a869a574712",
        "colab": {
          "base_uri": "https://localhost:8080/"
        }
      },
      "source": [
        "print(rnn_forecast)\n",
        "# EXPECTED OUTPUT -- ARRAY OF VALUES IN THE LOW TEENS"
      ],
      "execution_count": 29,
      "outputs": [
        {
          "output_type": "stream",
          "name": "stdout",
          "text": [
            "[11.595442 10.802751 11.799312 ... 13.357523 13.53594  14.889494]\n"
          ]
        }
      ]
    },
    {
      "cell_type": "code",
      "source": [
        ""
      ],
      "metadata": {
        "id": "HxXtgGup7IPl"
      },
      "execution_count": null,
      "outputs": []
    }
  ]
}